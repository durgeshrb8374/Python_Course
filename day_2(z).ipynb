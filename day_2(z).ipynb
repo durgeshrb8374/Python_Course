{
 "cells": [
  {
   "cell_type": "code",
   "execution_count": 2,
   "metadata": {},
   "outputs": [
    {
     "name": "stdout",
     "output_type": "stream",
     "text": [
      "False\n"
     ]
    }
   ],
   "source": [
    "txt ='Summer'\n",
    "x= txt.islower()\n",
    "print(x)"
   ]
  },
  {
   "cell_type": "code",
   "execution_count": 3,
   "metadata": {},
   "outputs": [
    {
     "name": "stdout",
     "output_type": "stream",
     "text": [
      "True\n"
     ]
    }
   ],
   "source": [
    "txt = 'summer'\n",
    "x=txt.islower()\n",
    "print(x)"
   ]
  },
  {
   "cell_type": "code",
   "execution_count": 2,
   "metadata": {},
   "outputs": [
    {
     "name": "stdout",
     "output_type": "stream",
     "text": [
      "False\n"
     ]
    }
   ],
   "source": [
    "txt = '1200.00'\n",
    "x= txt.isnumeric()\n",
    "print(x)"
   ]
  },
  {
   "cell_type": "code",
   "execution_count": 3,
   "metadata": {},
   "outputs": [
    {
     "name": "stdout",
     "output_type": "stream",
     "text": [
      "True\n"
     ]
    }
   ],
   "source": [
    "txt = '1200'\n",
    "x= txt.isnumeric()\n",
    "print(x)"
   ]
  },
  {
   "cell_type": "code",
   "execution_count": 9,
   "metadata": {},
   "outputs": [
    {
     "name": "stdout",
     "output_type": "stream",
     "text": [
      "True\n"
     ]
    }
   ],
   "source": [
    "txt = 'summer'\n",
    "x= txt.isprintable()\n",
    "print(x)"
   ]
  },
  {
   "cell_type": "code",
   "execution_count": 10,
   "metadata": {},
   "outputs": [
    {
     "name": "stdout",
     "output_type": "stream",
     "text": [
      "False\n"
     ]
    }
   ],
   "source": [
    "txt ='summer\\n'\n",
    "x=txt.isprintable()\n",
    "print(x)"
   ]
  },
  {
   "cell_type": "code",
   "execution_count": 11,
   "metadata": {},
   "outputs": [
    {
     "name": "stdout",
     "output_type": "stream",
     "text": [
      "False\n"
     ]
    }
   ],
   "source": [
    "txt = 'VII'\n",
    "x =txt.isnumeric()\n",
    "print(x)"
   ]
  },
  {
   "cell_type": "code",
   "execution_count": 12,
   "metadata": {},
   "outputs": [
    {
     "name": "stdout",
     "output_type": "stream",
     "text": [
      "True\n"
     ]
    }
   ],
   "source": [
    "txt = 'This Is Title'\n",
    "x= txt.istitle()\n",
    "print(x)"
   ]
  },
  {
   "cell_type": "code",
   "execution_count": 13,
   "metadata": {},
   "outputs": [
    {
     "name": "stdout",
     "output_type": "stream",
     "text": [
      "False\n"
     ]
    }
   ],
   "source": [
    "txt = 'This is Title'\n",
    "x= txt.istitle()\n",
    "print(x)"
   ]
  },
  {
   "cell_type": "code",
   "execution_count": 15,
   "metadata": {},
   "outputs": [
    {
     "name": "stdout",
     "output_type": "stream",
     "text": [
      "True\n"
     ]
    }
   ],
   "source": [
    "txt = 'HELLO'\n",
    "x= txt.isupper()\n",
    "print(x)"
   ]
  },
  {
   "cell_type": "code",
   "execution_count": 16,
   "metadata": {},
   "outputs": [
    {
     "name": "stdout",
     "output_type": "stream",
     "text": [
      "False\n"
     ]
    }
   ],
   "source": [
    "text = 'HELLO  everyone'\n",
    "x=text.isupper()\n",
    "print(x)"
   ]
  },
  {
   "cell_type": "code",
   "execution_count": 17,
   "metadata": {},
   "outputs": [
    {
     "name": "stdout",
     "output_type": "stream",
     "text": [
      "Sachin#Suresh#Anand\n"
     ]
    }
   ],
   "source": [
    "mytupple=('Sachin','Suresh','Anand')\n",
    "x = '#'.join(mytupple)\n",
    "print(x)"
   ]
  },
  {
   "cell_type": "code",
   "execution_count": 18,
   "metadata": {},
   "outputs": [
    {
     "name": "stdout",
     "output_type": "stream",
     "text": [
      "Sachin+++Suresh+++Anand\n"
     ]
    }
   ],
   "source": [
    "mytupple=('Sachin','Suresh','Anand')\n",
    "x = '+++'.join(mytupple)\n",
    "print(x)"
   ]
  },
  {
   "cell_type": "code",
   "execution_count": 20,
   "metadata": {},
   "outputs": [
    {
     "name": "stdout",
     "output_type": "stream",
     "text": [
      "Salman               is your fav actor\n"
     ]
    }
   ],
   "source": [
    "txt = 'Salman'   \n",
    "x= txt.ljust(20)  #justify 20 spaces in left side\n",
    "print(x,'is your fav actor')"
   ]
  },
  {
   "cell_type": "code",
   "execution_count": 4,
   "metadata": {},
   "outputs": [
    {
     "name": "stdout",
     "output_type": "stream",
     "text": [
      "hELLO MY fRIEND\n"
     ]
    }
   ],
   "source": [
    "txt = 'Hello my Friend'\n",
    "x = txt.swapcase()  #swap lower to upper and vice verse\n",
    "print(x)"
   ]
  },
  {
   "cell_type": "code",
   "execution_count": 22,
   "metadata": {},
   "outputs": [
    {
     "name": "stdout",
     "output_type": "stream",
     "text": [
      "['hello world', 'python is', 'very easy']\n"
     ]
    }
   ],
   "source": [
    "txt = 'hello world,python is,very easy'\n",
    "x= txt.split(',')\n",
    "print(x)"
   ]
  },
  {
   "cell_type": "code",
   "execution_count": 30,
   "metadata": {},
   "outputs": [
    {
     "name": "stdout",
     "output_type": "stream",
     "text": [
      "['orange', 'bannana', 'mango,pinaple,papaya']\n"
     ]
    }
   ],
   "source": [
    "txt = 'orange,bannana,mango,pinaple,papaya'\n",
    "x = txt.split(sep =\",\",maxsplit = 2)  #maxsplit-how much  you split\n",
    "print(x)"
   ]
  },
  {
   "cell_type": "code",
   "execution_count": 31,
   "metadata": {},
   "outputs": [
    {
     "name": "stdout",
     "output_type": "stream",
     "text": [
      "helllloooooooooo\n"
     ]
    }
   ],
   "source": [
    "txt = '                    helllloooooooooo'\n",
    "x= txt.strip()    #strip whitespaces\n",
    "print(x)"
   ]
  },
  {
   "cell_type": "code",
   "execution_count": 32,
   "metadata": {},
   "outputs": [
    {
     "name": "stdout",
     "output_type": "stream",
     "text": [
      "helllloooooooooo      \n"
     ]
    }
   ],
   "source": [
    "txt = '                    helllloooooooooo      '\n",
    "x= txt.lstrip()    #strip whitespaces from  leftside\n",
    "print(x)"
   ]
  },
  {
   "cell_type": "code",
   "execution_count": 33,
   "metadata": {},
   "outputs": [
    {
     "name": "stdout",
     "output_type": "stream",
     "text": [
      "                    helllloooooooooo\n"
     ]
    }
   ],
   "source": [
    "txt = '                    helllloooooooooo      '\n",
    "x= txt.rstrip()    #strip whitespaces from right side\n",
    "print(x)"
   ]
  },
  {
   "cell_type": "code",
   "execution_count": 35,
   "metadata": {},
   "outputs": [
    {
     "name": "stdout",
     "output_type": "stream",
     "text": [
      "Welcome To My Wolrd\n"
     ]
    }
   ],
   "source": [
    "text = 'welcome to my wolrd'\n",
    "x = text.title()\n",
    "print(x)"
   ]
  },
  {
   "cell_type": "code",
   "execution_count": 36,
   "metadata": {},
   "outputs": [
    {
     "name": "stdout",
     "output_type": "stream",
     "text": [
      "0000000050\n"
     ]
    }
   ],
   "source": [
    "txt = '50'\n",
    "x = txt.zfill(10)\n",
    "print(x)"
   ]
  },
  {
   "cell_type": "code",
   "execution_count": 38,
   "metadata": {},
   "outputs": [
    {
     "name": "stdout",
     "output_type": "stream",
     "text": [
      "{83: 80}\n",
      "Hello Pam!\n"
     ]
    }
   ],
   "source": [
    "txt = 'Hello Sam!'\n",
    "mytable = txt.maketrans(\"S\",\"P\")   #conversion of ascii characters\n",
    "print(mytable)\n",
    "print(txt.translate(mytable))"
   ]
  },
  {
   "cell_type": "code",
   "execution_count": 40,
   "metadata": {},
   "outputs": [
    {
     "name": "stdout",
     "output_type": "stream",
     "text": [
      "{109: 101, 83: 74, 97: 111}\n",
      "Hello Joe!\n"
     ]
    }
   ],
   "source": [
    "txt = 'Hello Sam!'\n",
    "x= 'mSa'\n",
    "y = 'eJo'\n",
    "mytable = txt.maketrans(x,y)\n",
    "print(mytable)\n",
    "print(txt.translate(mytable))"
   ]
  },
  {
   "cell_type": "code",
   "execution_count": 41,
   "metadata": {},
   "outputs": [
    {
     "name": "stdout",
     "output_type": "stream",
     "text": [
      "{109: 101, 83: 74, 97: 111}\n",
      "Helleeeeeo Joe!\n"
     ]
    }
   ],
   "source": [
    "txt = 'Hellmmmmmo Sam!'\n",
    "x= 'mSa'\n",
    "y = 'eJo'\n",
    "mytable = txt.maketrans(x,y)\n",
    "print(mytable)\n",
    "print(txt.translate(mytable))"
   ]
  },
  {
   "cell_type": "code",
   "execution_count": 42,
   "metadata": {},
   "outputs": [
    {
     "name": "stdout",
     "output_type": "stream",
     "text": [
      "{109: 101, 83: 74, 97: 111, 111: None, 100: None, 110: None, 103: None, 104: None, 116: None}\n",
      "G Ni Joe!\n"
     ]
    }
   ],
   "source": [
    "txt = 'Good Night Sam!'\n",
    "x= 'mSa'\n",
    "y = 'eJo'\n",
    "z ='odnght'\n",
    "mytable = txt.maketrans(x,y,z)\n",
    "print(mytable)\n",
    "print(txt.translate(mytable))"
   ]
  },
  {
   "cell_type": "code",
   "execution_count": 43,
   "metadata": {},
   "outputs": [
    {
     "name": "stdout",
     "output_type": "stream",
     "text": [
      "{109: 101, 83: 74, 97: 111, 111: None, 100: None, 110: None, 103: None, 104: None, 116: None}\n",
      "G i Joe!\n"
     ]
    }
   ],
   "source": [
    "txt = 'Good night Sam!'\n",
    "x= 'mSa'\n",
    "y = 'eJo'\n",
    "z ='odnght'\n",
    "mytable = txt.maketrans(x,y,z)  #z will remove every occurance\n",
    "print(mytable)\n",
    "print(txt.translate(mytable))"
   ]
  },
  {
   "cell_type": "code",
   "execution_count": 44,
   "metadata": {},
   "outputs": [
    {
     "name": "stdout",
     "output_type": "stream",
     "text": [
      "G i Joe!\n"
     ]
    }
   ],
   "source": [
    "txt = 'Good night Sam!'\n",
    "mydict = {109: 101, 83: 74, 97: 111, 111: None, 100: None, 110: None, 103: None, 104: None, 116: None}\n",
    "print(txt.translate(mydict))"
   ]
  },
  {
   "cell_type": "code",
   "execution_count": 48,
   "metadata": {},
   "outputs": [
    {
     "name": "stdout",
     "output_type": "stream",
     "text": [
      "('Good ', 'Night', ' Sam')\n"
     ]
    }
   ],
   "source": [
    "txt = 'Good Night Sam'\n",
    "x = txt.partition('Night')\n",
    "print(x)"
   ]
  },
  {
   "cell_type": "code",
   "execution_count": 47,
   "metadata": {},
   "outputs": [
    {
     "name": "stdout",
     "output_type": "stream",
     "text": [
      "('Good Night Sam', '', '')\n"
     ]
    }
   ],
   "source": [
    "txt = 'Good Night Sam'\n",
    "x = txt.partition('apple')\n",
    "print(x)"
   ]
  },
  {
   "cell_type": "code",
   "execution_count": 52,
   "metadata": {},
   "outputs": [
    {
     "name": "stdout",
     "output_type": "stream",
     "text": [
      "thwas was string example was this is good\n"
     ]
    }
   ],
   "source": [
    "txt = 'this is string example is this is good'\n",
    "x= txt.replace('is','was',3)\n",
    "print(x)"
   ]
  },
  {
   "cell_type": "code",
   "execution_count": 54,
   "metadata": {},
   "outputs": [
    {
     "name": "stdout",
     "output_type": "stream",
     "text": [
      "thwas was string example was thwas is good\n"
     ]
    }
   ],
   "source": [
    "txt = 'this is string example is this is good'\n",
    "x= txt.replace('is','was',4)\n",
    "print(x)"
   ]
  },
  {
   "cell_type": "code",
   "execution_count": 56,
   "metadata": {},
   "outputs": [
    {
     "name": "stdout",
     "output_type": "stream",
     "text": [
      "['thank you for learning string methods', ' we will start new point']\n"
     ]
    }
   ],
   "source": [
    "txt = 'thank you for learning string methods\\n we will start new point'\n",
    "x= txt.splitlines()   #return list of two lines\n",
    "print(x)"
   ]
  },
  {
   "cell_type": "code",
   "execution_count": 58,
   "metadata": {},
   "outputs": [
    {
     "data": {
      "text/plain": [
       "['__add__',\n",
       " '__class__',\n",
       " '__contains__',\n",
       " '__delattr__',\n",
       " '__dir__',\n",
       " '__doc__',\n",
       " '__eq__',\n",
       " '__format__',\n",
       " '__ge__',\n",
       " '__getattribute__',\n",
       " '__getitem__',\n",
       " '__getnewargs__',\n",
       " '__gt__',\n",
       " '__hash__',\n",
       " '__init__',\n",
       " '__init_subclass__',\n",
       " '__iter__',\n",
       " '__le__',\n",
       " '__len__',\n",
       " '__lt__',\n",
       " '__mod__',\n",
       " '__mul__',\n",
       " '__ne__',\n",
       " '__new__',\n",
       " '__reduce__',\n",
       " '__reduce_ex__',\n",
       " '__repr__',\n",
       " '__rmod__',\n",
       " '__rmul__',\n",
       " '__setattr__',\n",
       " '__sizeof__',\n",
       " '__str__',\n",
       " '__subclasshook__',\n",
       " 'capitalize',\n",
       " 'casefold',\n",
       " 'center',\n",
       " 'count',\n",
       " 'encode',\n",
       " 'endswith',\n",
       " 'expandtabs',\n",
       " 'find',\n",
       " 'format',\n",
       " 'format_map',\n",
       " 'index',\n",
       " 'isalnum',\n",
       " 'isalpha',\n",
       " 'isascii',\n",
       " 'isdecimal',\n",
       " 'isdigit',\n",
       " 'isidentifier',\n",
       " 'islower',\n",
       " 'isnumeric',\n",
       " 'isprintable',\n",
       " 'isspace',\n",
       " 'istitle',\n",
       " 'isupper',\n",
       " 'join',\n",
       " 'ljust',\n",
       " 'lower',\n",
       " 'lstrip',\n",
       " 'maketrans',\n",
       " 'partition',\n",
       " 'replace',\n",
       " 'rfind',\n",
       " 'rindex',\n",
       " 'rjust',\n",
       " 'rpartition',\n",
       " 'rsplit',\n",
       " 'rstrip',\n",
       " 'split',\n",
       " 'splitlines',\n",
       " 'startswith',\n",
       " 'strip',\n",
       " 'swapcase',\n",
       " 'title',\n",
       " 'translate',\n",
       " 'upper',\n",
       " 'zfill']"
      ]
     },
     "execution_count": 58,
     "metadata": {},
     "output_type": "execute_result"
    }
   ],
   "source": [
    "dir(txt)"
   ]
  },
  {
   "cell_type": "code",
   "execution_count": 61,
   "metadata": {},
   "outputs": [
    {
     "name": "stdout",
     "output_type": "stream",
     "text": [
      "True\n"
     ]
    }
   ],
   "source": [
    "txt = \"  \"\n",
    "x = txt.isspace()\n",
    "print(x)"
   ]
  },
  {
   "cell_type": "code",
   "execution_count": 62,
   "metadata": {},
   "outputs": [
    {
     "name": "stdout",
     "output_type": "stream",
     "text": [
      "False\n"
     ]
    }
   ],
   "source": [
    "txt = \" s \"\n",
    "x = txt.isspace()\n",
    "print(x)"
   ]
  },
  {
   "cell_type": "code",
   "execution_count": null,
   "metadata": {},
   "outputs": [],
   "source": [
    "\n"
   ]
  },
  {
   "cell_type": "markdown",
   "metadata": {},
   "source": [
    "## .....string Escapping Characters......"
   ]
  },
  {
   "cell_type": "code",
   "execution_count": 67,
   "metadata": {},
   "outputs": [
    {
     "name": "stdout",
     "output_type": "stream",
     "text": [
      "It's alright!\n"
     ]
    }
   ],
   "source": [
    "txt = 'It\\'s alright!'\n",
    "print(txt)"
   ]
  },
  {
   "cell_type": "code",
   "execution_count": 68,
   "metadata": {},
   "outputs": [
    {
     "name": "stdout",
     "output_type": "stream",
     "text": [
      "This will insert one \\(backslash)\n"
     ]
    }
   ],
   "source": [
    "txt = \"This will insert one \\\\(backslash)\"\n",
    "print(txt)"
   ]
  },
  {
   "cell_type": "code",
   "execution_count": 70,
   "metadata": {},
   "outputs": [
    {
     "name": "stdout",
     "output_type": "stream",
     "text": [
      "This will insert \n",
      " new line\n"
     ]
    }
   ],
   "source": [
    "txt = 'This will insert one\\n new line'\n",
    "print(txt)"
   ]
  },
  {
   "cell_type": "code",
   "execution_count": 71,
   "metadata": {},
   "outputs": [
    {
     "name": "stdout",
     "output_type": "stream",
     "text": [
      "This will insert one\t new line\n"
     ]
    }
   ],
   "source": [
    "txt = 'This will insert one\\t new tab'\n",
    "print(txt)"
   ]
  },
  {
   "cell_type": "code",
   "execution_count": 72,
   "metadata": {},
   "outputs": [
    {
     "name": "stdout",
     "output_type": "stream",
     "text": [
      "This will insert one two three \r",
      " This will insert one\n"
     ]
    }
   ],
   "source": [
    "txt = 'This will insert one two three \\r This will insert one'\n",
    "print(txt)  #\\r carriage return--overide the string"
   ]
  },
  {
   "cell_type": "code",
   "execution_count": 73,
   "metadata": {},
   "outputs": [
    {
     "name": "stdout",
     "output_type": "stream",
     "text": [
      "Hello \bWorld\n"
     ]
    }
   ],
   "source": [
    "txt = 'Hello \\bWorld'   #remove back space\n",
    "print(txt)"
   ]
  },
  {
   "cell_type": "code",
   "execution_count": 74,
   "metadata": {},
   "outputs": [
    {
     "name": "stdout",
     "output_type": "stream",
     "text": [
      "Hello\n"
     ]
    }
   ],
   "source": [
    "txt = '\\110\\145\\154\\154\\157'  #ocatal representation\n",
    "print(txt)"
   ]
  },
  {
   "cell_type": "code",
   "execution_count": 75,
   "metadata": {},
   "outputs": [
    {
     "name": "stdout",
     "output_type": "stream",
     "text": [
      "Hello\n"
     ]
    }
   ],
   "source": [
    "txt = '\\x48\\x65\\x6c\\x6c\\x6f'   #hex representation\n",
    "print(txt)"
   ]
  },
  {
   "cell_type": "code",
   "execution_count": null,
   "metadata": {},
   "outputs": [],
   "source": [
    "\n",
    "\n"
   ]
  },
  {
   "cell_type": "code",
   "execution_count": null,
   "metadata": {},
   "outputs": [],
   "source": []
  },
  {
   "cell_type": "markdown",
   "metadata": {},
   "source": [
    "### ......INPUT....."
   ]
  },
  {
   "cell_type": "code",
   "execution_count": 78,
   "metadata": {},
   "outputs": [
    {
     "name": "stdout",
     "output_type": "stream",
     "text": [
      "enter the first Number12\n",
      "enter teh second Number12\n",
      "1212\n"
     ]
    }
   ],
   "source": [
    "num1 = input('enter the first Number')\n",
    "num2 = input('enter teh second Number')\n",
    "num3 = num1 + num2\n",
    "print(num3)"
   ]
  },
  {
   "cell_type": "code",
   "execution_count": 80,
   "metadata": {},
   "outputs": [
    {
     "name": "stdout",
     "output_type": "stream",
     "text": [
      "enter the first Number12\n",
      "enter teh second Number13\n",
      "25\n"
     ]
    }
   ],
   "source": [
    "num1 = int(input('enter the first Number'))\n",
    "num2 = int(input('enter teh second Number'))\n",
    "num3 = num1 + num2\n",
    "print(num3)"
   ]
  },
  {
   "cell_type": "code",
   "execution_count": 81,
   "metadata": {},
   "outputs": [
    {
     "name": "stdout",
     "output_type": "stream",
     "text": [
      "enter the first Number12\n",
      "enter teh second Number13.55\n"
     ]
    },
    {
     "ename": "ValueError",
     "evalue": "invalid literal for int() with base 10: '13.55'",
     "output_type": "error",
     "traceback": [
      "\u001b[0;31m---------------------------------------------------------------------------\u001b[0m",
      "\u001b[0;31mValueError\u001b[0m                                Traceback (most recent call last)",
      "\u001b[0;32m<ipython-input-81-d2b0148f65cf>\u001b[0m in \u001b[0;36m<module>\u001b[0;34m\u001b[0m\n\u001b[1;32m      1\u001b[0m \u001b[0mnum1\u001b[0m \u001b[0;34m=\u001b[0m \u001b[0mint\u001b[0m\u001b[0;34m(\u001b[0m\u001b[0minput\u001b[0m\u001b[0;34m(\u001b[0m\u001b[0;34m'enter the first Number'\u001b[0m\u001b[0;34m)\u001b[0m\u001b[0;34m)\u001b[0m\u001b[0;34m\u001b[0m\u001b[0;34m\u001b[0m\u001b[0m\n\u001b[0;32m----> 2\u001b[0;31m \u001b[0mnum2\u001b[0m \u001b[0;34m=\u001b[0m \u001b[0mint\u001b[0m\u001b[0;34m(\u001b[0m\u001b[0minput\u001b[0m\u001b[0;34m(\u001b[0m\u001b[0;34m'enter teh second Number'\u001b[0m\u001b[0;34m)\u001b[0m\u001b[0;34m)\u001b[0m\u001b[0;34m\u001b[0m\u001b[0;34m\u001b[0m\u001b[0m\n\u001b[0m\u001b[1;32m      3\u001b[0m \u001b[0mnum3\u001b[0m \u001b[0;34m=\u001b[0m \u001b[0mnum1\u001b[0m \u001b[0;34m+\u001b[0m \u001b[0mnum2\u001b[0m\u001b[0;34m\u001b[0m\u001b[0;34m\u001b[0m\u001b[0m\n\u001b[1;32m      4\u001b[0m \u001b[0mprint\u001b[0m\u001b[0;34m(\u001b[0m\u001b[0mnum3\u001b[0m\u001b[0;34m)\u001b[0m\u001b[0;34m\u001b[0m\u001b[0;34m\u001b[0m\u001b[0m\n",
      "\u001b[0;31mValueError\u001b[0m: invalid literal for int() with base 10: '13.55'"
     ]
    }
   ],
   "source": [
    "num1 = int(input('enter the first Number'))\n",
    "num2 = int(input('enter teh second Number'))\n",
    "num3 = num1 + num2\n",
    "print(num3)\n"
   ]
  },
  {
   "cell_type": "code",
   "execution_count": 84,
   "metadata": {},
   "outputs": [
    {
     "name": "stdout",
     "output_type": "stream",
     "text": [
      "enter the first Number12.5\n",
      "enter teh second Number12.6\n",
      "25.1\n"
     ]
    }
   ],
   "source": [
    "num1 = float(input('enter the first Number'))\n",
    "num2 = float(input('enter teh second Number'))\n",
    "num3 = num1 + num2\n",
    "print(num3)"
   ]
  },
  {
   "cell_type": "code",
   "execution_count": 85,
   "metadata": {},
   "outputs": [
    {
     "name": "stdout",
     "output_type": "stream",
     "text": [
      "enter the first Number12\n",
      "enter teh second Number12.5\n",
      "24.5\n"
     ]
    }
   ],
   "source": [
    "num1 = float(input('enter the first Number'))\n",
    "num2 = float(input('enter teh second Number'))\n",
    "num3 = num1 + num2\n",
    "print(num3)"
   ]
  },
  {
   "cell_type": "code",
   "execution_count": 86,
   "metadata": {},
   "outputs": [
    {
     "name": "stdout",
     "output_type": "stream",
     "text": [
      "enter the first Number12\n",
      "enter teh second Number12.5\n",
      "sum of townumber = 24.50\n"
     ]
    }
   ],
   "source": [
    "num1 = float(input('enter the first Number'))\n",
    "num2 = float(input('enter teh second Number'))\n",
    "num3 = num1 + num2\n",
    "print('sum of townumber = {:.2f}'.format(num3))"
   ]
  },
  {
   "cell_type": "code",
   "execution_count": null,
   "metadata": {},
   "outputs": [],
   "source": []
  },
  {
   "cell_type": "code",
   "execution_count": null,
   "metadata": {},
   "outputs": [],
   "source": []
  },
  {
   "cell_type": "markdown",
   "metadata": {},
   "source": [
    "## problem"
   ]
  },
  {
   "cell_type": "code",
   "execution_count": 88,
   "metadata": {},
   "outputs": [
    {
     "name": "stdout",
     "output_type": "stream",
     "text": [
      "Hello World\n"
     ]
    }
   ],
   "source": [
    "#1.print Hello World!\n",
    "print('Hello World!')"
   ]
  },
  {
   "cell_type": "code",
   "execution_count": 90,
   "metadata": {},
   "outputs": [
    {
     "name": "stdout",
     "output_type": "stream",
     "text": [
      "enter number112\n",
      "enter number 23\n",
      "15\n"
     ]
    }
   ],
   "source": [
    "#2.Add two numbers\n",
    "a= int(input('enter number1'))\n",
    "b = int(input(\"enter number 2\"))\n",
    "print(a+b)"
   ]
  },
  {
   "cell_type": "code",
   "execution_count": 95,
   "metadata": {},
   "outputs": [
    {
     "name": "stdout",
     "output_type": "stream",
     "text": [
      "enter number25\n",
      "5.0\n"
     ]
    }
   ],
   "source": [
    "#3.find square root of number\n",
    "a= int (input(\"enter number\"))\n",
    "print(a**0.5)"
   ]
  },
  {
   "cell_type": "code",
   "execution_count": 100,
   "metadata": {},
   "outputs": [
    {
     "name": "stdout",
     "output_type": "stream",
     "text": [
      "enter base of triangle:12\n",
      "enter side 2:13\n",
      "enter side 3:14\n",
      "area = 72.30793524918272\n",
      "semi perimetre of triangle is 19.0\n"
     ]
    }
   ],
   "source": [
    "#4.program to calculate area of triangle\n",
    "a = int(input(\"enter side1:\"))\n",
    "b=int(input('enter side 2:'))\n",
    "c=int(input('enter side 3:'))\n",
    "\n",
    "s = (a+b+c)/2\n",
    "area = (s*(s-a)*(s-b)*(s-c))**0.5\n",
    "\n",
    "print('area = {}'.format(area))\n",
    "print('semi perimetre of triangle is {}'.format(s))\n"
   ]
  },
  {
   "cell_type": "code",
   "execution_count": 115,
   "metadata": {},
   "outputs": [
    {
     "name": "stdout",
     "output_type": "stream",
     "text": [
      "enter value of a1\n",
      "enter value of b5\n",
      "enter value of c6\n",
      "solution 1 = (-3+0j)\n",
      "solution 2 = (-2+0j)\n"
     ]
    }
   ],
   "source": [
    "#5.python program to sove quadratic equationn\n",
    "import cmath\n",
    "\n",
    "\n",
    "ax=int(input(\"enter value of a\"))\n",
    "bx=int(input(\"enter value of b\"))\n",
    "c=int(input(\"enter value of c\"))\n",
    "# ax**2 +bx+c\n",
    "d= (bx**2)-(4*ax*c)\n",
    "sol1 = (-bx-cmath.sqrt(d))/(2*ax)\n",
    "sol2=(-bx+cmath.sqrt(d))/2*ax\n",
    "print('solution 1 = {}'.format(sol1))\n",
    "print('solution 2 = {}'.format(sol2))"
   ]
  },
  {
   "cell_type": "code",
   "execution_count": null,
   "metadata": {},
   "outputs": [],
   "source": []
  },
  {
   "cell_type": "code",
   "execution_count": 118,
   "metadata": {},
   "outputs": [
    {
     "name": "stdout",
     "output_type": "stream",
     "text": [
      "enter first num10\n",
      "enter second num15\n",
      "a=15,b=10\n"
     ]
    }
   ],
   "source": [
    "#6.Python program to swap variable\n",
    "a=int(input('enter value of a'))\n",
    "b=int(input('enter value of b'))\n",
    "#using temp\n",
    "temp = a\n",
    "a=b\n",
    "b=temp\n",
    "\n",
    "# a,b=b,a\n",
    "print('a={},b={}'.format(a,b))"
   ]
  },
  {
   "cell_type": "code",
   "execution_count": null,
   "metadata": {},
   "outputs": [],
   "source": [
    "\n"
   ]
  },
  {
   "cell_type": "code",
   "execution_count": 119,
   "metadata": {},
   "outputs": [
    {
     "name": "stdout",
     "output_type": "stream",
     "text": [
      "enter kilometer1\n",
      "0.621371\n"
     ]
    }
   ],
   "source": [
    "#7.write prgram to convert kilometers to miles \n",
    "fac = 0.621371\n",
    "a=float(input(\"enter kilometer\"))\n",
    "mile=a*fac\n",
    "print(mile)"
   ]
  },
  {
   "cell_type": "code",
   "execution_count": 122,
   "metadata": {},
   "outputs": [
    {
     "name": "stdout",
     "output_type": "stream",
     "text": [
      "enter temperature in celcius32\n",
      "89.6\n"
     ]
    }
   ],
   "source": [
    "#8.Conver celcius to farhenhit\n",
    "\n",
    "c = int(input('enter temperature in celcius:'))\n",
    "f=(c*(9/5))+32\n",
    "print(f)\n"
   ]
  },
  {
   "cell_type": "code",
   "execution_count": 123,
   "metadata": {},
   "outputs": [
    {
     "name": "stdout",
     "output_type": "stream",
     "text": [
      "enter radius7\n",
      "area of square is 72.30793524918272\n"
     ]
    }
   ],
   "source": [
    "#calculate are of circle\n",
    "pi = 3.14159\n",
    "r=int(input('enter radius'))\n",
    "a=pi*r*r\n",
    "print('area of circle is',area)"
   ]
  },
  {
   "cell_type": "code",
   "execution_count": 124,
   "metadata": {},
   "outputs": [],
   "source": [
    "#"
   ]
  },
  {
   "cell_type": "code",
   "execution_count": null,
   "metadata": {},
   "outputs": [],
   "source": []
  },
  {
   "cell_type": "code",
   "execution_count": null,
   "metadata": {},
   "outputs": [],
   "source": []
  },
  {
   "cell_type": "code",
   "execution_count": null,
   "metadata": {},
   "outputs": [],
   "source": []
  },
  {
   "cell_type": "markdown",
   "metadata": {},
   "source": [
    "### ...Comparison Operator......"
   ]
  },
  {
   "cell_type": "code",
   "execution_count": 126,
   "metadata": {},
   "outputs": [
    {
     "data": {
      "text/plain": [
       "True"
      ]
     },
     "execution_count": 126,
     "metadata": {},
     "output_type": "execute_result"
    }
   ],
   "source": [
    "2==2"
   ]
  },
  {
   "cell_type": "code",
   "execution_count": 127,
   "metadata": {},
   "outputs": [
    {
     "data": {
      "text/plain": [
       "True"
      ]
     },
     "execution_count": 127,
     "metadata": {},
     "output_type": "execute_result"
    }
   ],
   "source": [
    "2==2.0"
   ]
  },
  {
   "cell_type": "code",
   "execution_count": 128,
   "metadata": {},
   "outputs": [
    {
     "data": {
      "text/plain": [
       "False"
      ]
     },
     "execution_count": 128,
     "metadata": {},
     "output_type": "execute_result"
    }
   ],
   "source": [
    "2==3"
   ]
  },
  {
   "cell_type": "code",
   "execution_count": 129,
   "metadata": {},
   "outputs": [
    {
     "data": {
      "text/plain": [
       "False"
      ]
     },
     "execution_count": 129,
     "metadata": {},
     "output_type": "execute_result"
    }
   ],
   "source": [
    "2!=2"
   ]
  },
  {
   "cell_type": "code",
   "execution_count": 130,
   "metadata": {},
   "outputs": [
    {
     "data": {
      "text/plain": [
       "True"
      ]
     },
     "execution_count": 130,
     "metadata": {},
     "output_type": "execute_result"
    }
   ],
   "source": [
    "2>1"
   ]
  },
  {
   "cell_type": "code",
   "execution_count": 131,
   "metadata": {},
   "outputs": [
    {
     "data": {
      "text/plain": [
       "True"
      ]
     },
     "execution_count": 131,
     "metadata": {},
     "output_type": "execute_result"
    }
   ],
   "source": [
    "3>2"
   ]
  },
  {
   "cell_type": "code",
   "execution_count": 132,
   "metadata": {},
   "outputs": [
    {
     "data": {
      "text/plain": [
       "False"
      ]
     },
     "execution_count": 132,
     "metadata": {},
     "output_type": "execute_result"
    }
   ],
   "source": [
    "3>5"
   ]
  },
  {
   "cell_type": "code",
   "execution_count": 133,
   "metadata": {},
   "outputs": [
    {
     "data": {
      "text/plain": [
       "True"
      ]
     },
     "execution_count": 133,
     "metadata": {},
     "output_type": "execute_result"
    }
   ],
   "source": [
    "4<8"
   ]
  },
  {
   "cell_type": "code",
   "execution_count": 134,
   "metadata": {},
   "outputs": [
    {
     "data": {
      "text/plain": [
       "False"
      ]
     },
     "execution_count": 134,
     "metadata": {},
     "output_type": "execute_result"
    }
   ],
   "source": [
    "5<3"
   ]
  },
  {
   "cell_type": "code",
   "execution_count": 135,
   "metadata": {},
   "outputs": [
    {
     "data": {
      "text/plain": [
       "True"
      ]
     },
     "execution_count": 135,
     "metadata": {},
     "output_type": "execute_result"
    }
   ],
   "source": [
    "2>=2"
   ]
  },
  {
   "cell_type": "code",
   "execution_count": 136,
   "metadata": {},
   "outputs": [
    {
     "data": {
      "text/plain": [
       "True"
      ]
     },
     "execution_count": 136,
     "metadata": {},
     "output_type": "execute_result"
    }
   ],
   "source": [
    "3>=2"
   ]
  },
  {
   "cell_type": "code",
   "execution_count": 137,
   "metadata": {},
   "outputs": [
    {
     "data": {
      "text/plain": [
       "False"
      ]
     },
     "execution_count": 137,
     "metadata": {},
     "output_type": "execute_result"
    }
   ],
   "source": [
    "5<=3"
   ]
  },
  {
   "cell_type": "code",
   "execution_count": 140,
   "metadata": {},
   "outputs": [
    {
     "data": {
      "text/plain": [
       "True"
      ]
     },
     "execution_count": 140,
     "metadata": {},
     "output_type": "execute_result"
    }
   ],
   "source": [
    " 1<2<3  #chain operator"
   ]
  },
  {
   "cell_type": "code",
   "execution_count": 139,
   "metadata": {},
   "outputs": [
    {
     "data": {
      "text/plain": [
       "True"
      ]
     },
     "execution_count": 139,
     "metadata": {},
     "output_type": "execute_result"
    }
   ],
   "source": [
    "1<2 and 2<3"
   ]
  },
  {
   "cell_type": "code",
   "execution_count": 141,
   "metadata": {},
   "outputs": [
    {
     "data": {
      "text/plain": [
       "True"
      ]
     },
     "execution_count": 141,
     "metadata": {},
     "output_type": "execute_result"
    }
   ],
   "source": [
    "1==1or 100==1"
   ]
  },
  {
   "cell_type": "code",
   "execution_count": null,
   "metadata": {},
   "outputs": [],
   "source": []
  },
  {
   "cell_type": "code",
   "execution_count": null,
   "metadata": {},
   "outputs": [],
   "source": []
  },
  {
   "cell_type": "markdown",
   "metadata": {},
   "source": [
    "# .......Python Statements........"
   ]
  },
  {
   "cell_type": "markdown",
   "metadata": {},
   "source": [
    "#if    elif else"
   ]
  },
  {
   "cell_type": "code",
   "execution_count": 144,
   "metadata": {},
   "outputs": [
    {
     "name": "stdout",
     "output_type": "stream",
     "text": [
      "a is smaller\n"
     ]
    }
   ],
   "source": [
    "a=40\n",
    "b=60\n",
    "if a<b:\n",
    "    print('a is smaller')"
   ]
  },
  {
   "cell_type": "code",
   "execution_count": 145,
   "metadata": {},
   "outputs": [
    {
     "name": "stdout",
     "output_type": "stream",
     "text": [
      "both are equal\n"
     ]
    }
   ],
   "source": [
    "a=45\n",
    "b=45\n",
    "if a<b:\n",
    "    print('a is smaller ')\n",
    "else:\n",
    "    print('both are equal')"
   ]
  },
  {
   "cell_type": "code",
   "execution_count": 147,
   "metadata": {},
   "outputs": [
    {
     "name": "stdout",
     "output_type": "stream",
     "text": [
      "b is greater\n"
     ]
    }
   ],
   "source": [
    "a=89\n",
    "b=100\n",
    "if a>b:\n",
    "    print(' a is greater')\n",
    "elif a==b:\n",
    "    print('both are equal')\n",
    "else:\n",
    "    print('b is greater')\n",
    "    "
   ]
  },
  {
   "cell_type": "code",
   "execution_count": 148,
   "metadata": {},
   "outputs": [
    {
     "name": "stdout",
     "output_type": "stream",
     "text": [
      "a is greater\n"
     ]
    }
   ],
   "source": [
    "a=90\n",
    "b=67\n",
    "if a>b:print('a is greater')"
   ]
  },
  {
   "cell_type": "code",
   "execution_count": 150,
   "metadata": {},
   "outputs": [
    {
     "name": "stdout",
     "output_type": "stream",
     "text": [
      "b is greater\n"
     ]
    }
   ],
   "source": [
    "a = 100\n",
    "b = 100\n",
    "print('a is greater') if a > b else print('b is greater')"
   ]
  },
  {
   "cell_type": "code",
   "execution_count": 151,
   "metadata": {},
   "outputs": [
    {
     "name": "stdout",
     "output_type": "stream",
     "text": [
      "a is greater\n"
     ]
    }
   ],
   "source": [
    "a = 110\n",
    "b = 100\n",
    "print('a is greater') if a > b else print('b is greater')"
   ]
  },
  {
   "cell_type": "code",
   "execution_count": 153,
   "metadata": {},
   "outputs": [
    {
     "ename": "SyntaxError",
     "evalue": "invalid syntax (<ipython-input-153-7636323c2e98>, line 3)",
     "output_type": "error",
     "traceback": [
      "\u001b[0;36m  File \u001b[0;32m\"<ipython-input-153-7636323c2e98>\"\u001b[0;36m, line \u001b[0;32m3\u001b[0m\n\u001b[0;31m    print('a is greater') if a > b elif a==b print('both are equal') else print('b is greater')\u001b[0m\n\u001b[0m                                      ^\u001b[0m\n\u001b[0;31mSyntaxError\u001b[0m\u001b[0;31m:\u001b[0m invalid syntax\n"
     ]
    }
   ],
   "source": [
    "a = 100\n",
    "b = 100   \n",
    "print('a is greater') if a > b elif a==b print('both are equal') else print('b is greater')\n",
    "#only if and else can be used in shortcut"
   ]
  },
  {
   "cell_type": "code",
   "execution_count": 154,
   "metadata": {},
   "outputs": [
    {
     "name": "stdout",
     "output_type": "stream",
     "text": [
      "a is greater\n"
     ]
    }
   ],
   "source": [
    "a=100\n",
    "b=34\n",
    "c=400\n",
    "if a>b or a>c:\n",
    "    print(\"a is greater\")"
   ]
  },
  {
   "cell_type": "code",
   "execution_count": 155,
   "metadata": {},
   "outputs": [
    {
     "name": "stdout",
     "output_type": "stream",
     "text": [
      "b is greater\n"
     ]
    }
   ],
   "source": [
    "a=10\n",
    "b=12\n",
    "c=8\n",
    "if a>b:\n",
    "    if a>c:\n",
    "        print('a is greater')\n",
    "    else:\n",
    "        print('c is greater')\n",
    "elif b>a:\n",
    "    if b>c:\n",
    "        print('b is greater')\n",
    "    else:\n",
    "        print('c is greater')\n"
   ]
  },
  {
   "cell_type": "code",
   "execution_count": 156,
   "metadata": {},
   "outputs": [
    {
     "name": "stdout",
     "output_type": "stream",
     "text": [
      "Enter the number12\n",
      "positive number\n"
     ]
    }
   ],
   "source": [
    "num = float(input('Enter the number'))\n",
    "if num >= 0:\n",
    "    if num==0:\n",
    "        print(\"Zero\")\n",
    "    else:\n",
    "        print(\"positive number\")\n",
    "        \n",
    "else:\n",
    "    print('Negative number')"
   ]
  },
  {
   "cell_type": "code",
   "execution_count": 161,
   "metadata": {},
   "outputs": [
    {
     "name": "stdout",
     "output_type": "stream",
     "text": [
      "enter num11\n",
      "enter num25\n",
      "enter num38\n",
      "num1 is smaller\n"
     ]
    }
   ],
   "source": [
    "#1.smaller one\n",
    "num1 = int(input('enter num1'))\n",
    "num2 = int(input('enter num2'))\n",
    "num3 = int(input('enter num3'))\n",
    "\n",
    "if num1<num2:\n",
    "    if num1<num3:\n",
    "        print('num1 is smaller')\n",
    "    else:\n",
    "        print('num3 is smaller')\n",
    "elif num2<num1:\n",
    "    if num2<num3:\n",
    "        print('num2 is smaller')\n",
    "    else:\n",
    "        print('num3 is smaller')"
   ]
  },
  {
   "cell_type": "code",
   "execution_count": 164,
   "metadata": {},
   "outputs": [
    {
     "name": "stdout",
     "output_type": "stream",
     "text": [
      "enter length of rectangle12\n",
      "enter breadth of rectangle12\n",
      "it is square\n"
     ]
    }
   ],
   "source": [
    "#2.take the value of length and breadth of rectangle\n",
    "#and check it is square of not\n",
    "length=float(input(\"enter length of rectangle\"))\n",
    "breadth =float(input(\"enter breadth of rectangle\"))\n",
    "\n",
    "if length ==breadth:\n",
    "    print('it is square')\n",
    "else:\n",
    "    print('it is not square')"
   ]
  },
  {
   "cell_type": "code",
   "execution_count": 169,
   "metadata": {},
   "outputs": [
    {
     "name": "stdout",
     "output_type": "stream",
     "text": [
      "enter quantity100\n",
      "you have 10 % discount\n",
      "your final purchase amount is 9000.0\n"
     ]
    }
   ],
   "source": [
    "####A shop will give you discount of 10%\n",
    "#if the cost of purchase quantity is more than\n",
    "#1000.\n",
    "#ask user for quantity supose one unit cost is 100\n",
    "#and print total cost of user\n",
    "\n",
    "\n",
    "q=int(input(\"enter quantity\"))\n",
    "cost = q*100\n",
    "if cost>1000:\n",
    "    print('you have 10 % discount')\n",
    "    print('your final purchase amount is',(cost-cost*0.1) )\n",
    "\n",
    "else:\n",
    "    print(\"your final amount is\",cost)"
   ]
  },
  {
   "cell_type": "code",
   "execution_count": 173,
   "metadata": {},
   "outputs": [
    {
     "name": "stdout",
     "output_type": "stream",
     "text": [
      "enter age of p120\n",
      "enter age of p230\n",
      "enter age of p340\n",
      "p3 is oldest\n",
      "p1 is youngest\n"
     ]
    }
   ],
   "source": [
    "#4.take the input of age of 3 people by\n",
    "#user and determine oldest and youngest \n",
    "p1=int(input(\"enter age of p1\"))\n",
    "p2=int(input(\"enter age of p2\"))\n",
    "p3=int(input(\"enter age of p3\"))\n",
    "\n",
    "if p1>p2>p3:\n",
    "    print(\"p1 is oldest\")\n",
    "    if p2>p3:\n",
    "        print('p2 is oldest')\n",
    "else:\n",
    "    print('p3 is oldest')\n",
    "\n",
    "        \n",
    "if p1<p2<p3:\n",
    "    print(\"p1 is youngest\")\n",
    "    if p3<p2:\n",
    "        print('p3 is youngest')\n",
    "else:\n",
    "        print('p2 is youngest')"
   ]
  },
  {
   "cell_type": "code",
   "execution_count": 185,
   "metadata": {},
   "outputs": [
    {
     "name": "stdout",
     "output_type": "stream",
     "text": [
      "enter number-25\n",
      "-25.0\n"
     ]
    }
   ],
   "source": [
    "#5.print absolute value of number enered\n",
    "#by user do not use abs function\n",
    "a=float(input('enter number'))\n",
    "if a-a =0:\n",
    "    a = a* (-1)\n",
    "    \n",
    "print(a)"
   ]
  },
  {
   "cell_type": "code",
   "execution_count": 186,
   "metadata": {},
   "outputs": [
    {
     "name": "stdout",
     "output_type": "stream",
     "text": [
      "enter number-25\n",
      "25\n"
     ]
    }
   ],
   "source": [
    "a= int(input('enter number'))\n",
    "print(a) if a>0 else print(-a)"
   ]
  },
  {
   "cell_type": "code",
   "execution_count": 202,
   "metadata": {},
   "outputs": [
    {
     "name": "stdout",
     "output_type": "stream",
     "text": [
      "enter year400\n",
      "year is leap\n"
     ]
    }
   ],
   "source": [
    "#6.write a program to check year is leap year or not\n",
    "#if year is leap is divisible by 4 then\n",
    "#it is leap year\n",
    "#but if the year is century like2000,1900\n",
    "#then it must be divisible by 400\n",
    "\n",
    "year = int(input(\"enter year\"))\n",
    "if year % 4 ==0:\n",
    "    if year % 100==0:\n",
    "        if year%400 ==0:\n",
    "            print(\"year is leap\")\n",
    "        \n",
    "        else:\n",
    "            print(\"not a leap year\")\n",
    "    else:\n",
    "        print('year is leap')\n",
    "else:\n",
    "    print(\"not a leap year\")"
   ]
  },
  {
   "cell_type": "code",
   "execution_count": 199,
   "metadata": {},
   "outputs": [
    {
     "name": "stdout",
     "output_type": "stream",
     "text": [
      "enter year2100\n",
      "2100 is not a leap year\n"
     ]
    }
   ],
   "source": [
    "\n",
    "year = int(input(\"enter year\"))\n",
    "if (year % 4) == 0:\n",
    "   if (year % 100) == 0:\n",
    "       if (year % 400) == 0:\n",
    "           print(\"{0} is a leap year\".format(year))\n",
    "       else:\n",
    "           print(\"{0} is not a leap year\".format(year))\n",
    "   else:\n",
    "       print(\"{0} is a leap year\".format(year))\n",
    "else:\n",
    "   print(\"{0} is not a leap year\".format(year))"
   ]
  },
  {
   "cell_type": "code",
   "execution_count": 207,
   "metadata": {},
   "outputs": [
    {
     "name": "stdout",
     "output_type": "stream",
     "text": [
      "enter total number of lecture conducted50\n",
      "enter total number of lecture attended25\n",
      "your attendace is  50.0\n",
      "do you have med cert replay with(1/0)1\n",
      "you are elligible for exam with medical cert.\n"
     ]
    }
   ],
   "source": [
    "#A student will not be allowed to sit in exam\n",
    "#if his/her attendance is less than 75 %\n",
    "#take following input from user\n",
    "#1.number of lecture conducted\n",
    "#2.number of lecture attneded\n",
    "#print % of attendance\n",
    "#print is elligile or not\n",
    "\n",
    "#modify the abouve problem statemt\n",
    "#allow he\\she if had a medical certificate\n",
    "\n",
    "\n",
    "total_lec = int(input(\"enter total number of lecture conducted\"))\n",
    "att_lec =int(input('enter total number of lecture attended'))\n",
    "\n",
    "att_per = (att_lec/total_lec)*100\n",
    "print('your attendace is ',att_per)\n",
    "\n",
    "if att_per < 75:\n",
    "    med_cert=int(input('do you have med cert replay with(1/0)'))\n",
    "    if med_cert ==1:\n",
    "        \n",
    "        print(\"you are elligible for exam with medical cert.\")\n",
    "    else:\n",
    "        \n",
    "        print(\"you are not elligible for exam\")\n",
    "else:\n",
    "    print(\"you are elligible for exam\")"
   ]
  },
  {
   "cell_type": "code",
   "execution_count": 5,
   "metadata": {},
   "outputs": [],
   "source": []
  },
  {
   "cell_type": "code",
   "execution_count": null,
   "metadata": {},
   "outputs": [],
   "source": []
  }
 ],
 "metadata": {
  "kernelspec": {
   "display_name": "Python 3",
   "language": "python",
   "name": "python3"
  },
  "language_info": {
   "codemirror_mode": {
    "name": "ipython",
    "version": 3
   },
   "file_extension": ".py",
   "mimetype": "text/x-python",
   "name": "python",
   "nbconvert_exporter": "python",
   "pygments_lexer": "ipython3",
   "version": "3.7.6"
  }
 },
 "nbformat": 4,
 "nbformat_minor": 4
}
